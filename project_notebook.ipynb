{
 "cells": [
  {
   "cell_type": "code",
   "execution_count": 1,
   "id": "a30c98ea",
   "metadata": {},
   "outputs": [],
   "source": [
    "import pandas as pd\n",
    "import numpy as np\n",
    "import networkx as nx\n",
    "import seaborn as sns\n",
    "from scipy import stats\n",
    "from sklearn.model_selection import train_test_split\n",
    "from sklearn.preprocessing import OneHotEncoder\n",
    "from sklearn.compose import ColumnTransformer\n",
    "import pickle"
   ]
  },
  {
   "cell_type": "code",
   "execution_count": 2,
   "id": "035bbb90",
   "metadata": {},
   "outputs": [
    {
     "data": {
      "text/plain": [
       "<AxesSubplot:>"
      ]
     },
     "execution_count": 2,
     "metadata": {},
     "output_type": "execute_result"
    },
    {
     "data": {
      "image/png": "[encoded data removed]",
      "text/plain": [
       "<Figure size 432x288 with 1 Axes>"
      ]
     },
     "metadata": {
      "needs_background": "light"
     },
     "output_type": "display_data"
    }
   ],
   "source": [
    "dataf=pd.read_csv('data_imp.csv',)#imputed data\n",
    "dataf.rename({'0':'edge_id','1':'length','2':'minute','3':'speed','4':'is_holiday','5':'weather'},axis=1,inplace=True)\n",
    "dataf['speed'].hist(bins=300)"
   ]
  },
  {
   "cell_type": "code",
   "execution_count": null,
   "id": "0e7dba47",
   "metadata": {},
   "outputs": [],
   "source": []
  },
  {
   "cell_type": "code",
   "execution_count": 3,
   "id": "776af2ad",
   "metadata": {},
   "outputs": [
    {
     "data": {
      "text/html": [
       "<div>\n",
       "<style scoped>\n",
       "    .dataframe tbody tr th:only-of-type {\n",
       "        vertical-align: middle;\n",
       "    }\n",
       "\n",
       "    .dataframe tbody tr th {\n",
       "        vertical-align: top;\n",
       "    }\n",
       "\n",
       "    .dataframe thead th {\n",
       "        text-align: right;\n",
       "    }\n",
       "</style>\n",
       "<table border=\"1\" class=\"dataframe\">\n",
       "  <thead>\n",
       "    <tr style=\"text-align: right;\">\n",
       "      <th></th>\n",
       "      <th>edge_id</th>\n",
       "      <th>length</th>\n",
       "      <th>minute</th>\n",
       "      <th>speed</th>\n",
       "      <th>is_holiday</th>\n",
       "      <th>weather</th>\n",
       "    </tr>\n",
       "  </thead>\n",
       "  <tbody>\n",
       "    <tr>\n",
       "      <th>0</th>\n",
       "      <td>0.0</td>\n",
       "      <td>1618.0</td>\n",
       "      <td>605.0</td>\n",
       "      <td>45.490138</td>\n",
       "      <td>1.0</td>\n",
       "      <td>1.0</td>\n",
       "    </tr>\n",
       "    <tr>\n",
       "      <th>1</th>\n",
       "      <td>0.0</td>\n",
       "      <td>1618.0</td>\n",
       "      <td>180.0</td>\n",
       "      <td>58.136208</td>\n",
       "      <td>0.0</td>\n",
       "      <td>0.0</td>\n",
       "    </tr>\n",
       "    <tr>\n",
       "      <th>2</th>\n",
       "      <td>0.0</td>\n",
       "      <td>1618.0</td>\n",
       "      <td>770.0</td>\n",
       "      <td>35.708970</td>\n",
       "      <td>0.0</td>\n",
       "      <td>0.0</td>\n",
       "    </tr>\n",
       "    <tr>\n",
       "      <th>3</th>\n",
       "      <td>0.0</td>\n",
       "      <td>1618.0</td>\n",
       "      <td>970.0</td>\n",
       "      <td>33.432919</td>\n",
       "      <td>0.0</td>\n",
       "      <td>0.0</td>\n",
       "    </tr>\n",
       "    <tr>\n",
       "      <th>4</th>\n",
       "      <td>0.0</td>\n",
       "      <td>1618.0</td>\n",
       "      <td>980.0</td>\n",
       "      <td>40.524331</td>\n",
       "      <td>0.0</td>\n",
       "      <td>0.0</td>\n",
       "    </tr>\n",
       "    <tr>\n",
       "      <th>...</th>\n",
       "      <td>...</td>\n",
       "      <td>...</td>\n",
       "      <td>...</td>\n",
       "      <td>...</td>\n",
       "      <td>...</td>\n",
       "      <td>...</td>\n",
       "    </tr>\n",
       "    <tr>\n",
       "      <th>784219</th>\n",
       "      <td>389.0</td>\n",
       "      <td>1920.0</td>\n",
       "      <td>770.0</td>\n",
       "      <td>50.024419</td>\n",
       "      <td>0.0</td>\n",
       "      <td>0.0</td>\n",
       "    </tr>\n",
       "    <tr>\n",
       "      <th>784220</th>\n",
       "      <td>389.0</td>\n",
       "      <td>1920.0</td>\n",
       "      <td>675.0</td>\n",
       "      <td>52.047795</td>\n",
       "      <td>0.0</td>\n",
       "      <td>0.0</td>\n",
       "    </tr>\n",
       "    <tr>\n",
       "      <th>784221</th>\n",
       "      <td>389.0</td>\n",
       "      <td>1920.0</td>\n",
       "      <td>110.0</td>\n",
       "      <td>50.552516</td>\n",
       "      <td>0.0</td>\n",
       "      <td>1.0</td>\n",
       "    </tr>\n",
       "    <tr>\n",
       "      <th>784222</th>\n",
       "      <td>389.0</td>\n",
       "      <td>1920.0</td>\n",
       "      <td>990.0</td>\n",
       "      <td>39.998259</td>\n",
       "      <td>0.0</td>\n",
       "      <td>0.0</td>\n",
       "    </tr>\n",
       "    <tr>\n",
       "      <th>784223</th>\n",
       "      <td>389.0</td>\n",
       "      <td>1920.0</td>\n",
       "      <td>650.0</td>\n",
       "      <td>52.857924</td>\n",
       "      <td>0.0</td>\n",
       "      <td>0.0</td>\n",
       "    </tr>\n",
       "  </tbody>\n",
       "</table>\n",
       "<p>778482 rows × 6 columns</p>\n",
       "</div>"
      ],
      "text/plain": [
       "        edge_id  length  minute      speed  is_holiday  weather\n",
       "0           0.0  1618.0   605.0  45.490138         1.0      1.0\n",
       "1           0.0  1618.0   180.0  58.136208         0.0      0.0\n",
       "2           0.0  1618.0   770.0  35.708970         0.0      0.0\n",
       "3           0.0  1618.0   970.0  33.432919         0.0      0.0\n",
       "4           0.0  1618.0   980.0  40.524331         0.0      0.0\n",
       "...         ...     ...     ...        ...         ...      ...\n",
       "784219    389.0  1920.0   770.0  50.024419         0.0      0.0\n",
       "784220    389.0  1920.0   675.0  52.047795         0.0      0.0\n",
       "784221    389.0  1920.0   110.0  50.552516         0.0      1.0\n",
       "784222    389.0  1920.0   990.0  39.998259         0.0      0.0\n",
       "784223    389.0  1920.0   650.0  52.857924         0.0      0.0\n",
       "\n",
       "[778482 rows x 6 columns]"
      ]
     },
     "execution_count": 3,
     "metadata": {},
     "output_type": "execute_result"
    }
   ],
   "source": [
    "dataForw=dataf.copy()\n",
    "dataForw=dataForw[dataForw.speed>10]\n",
    "dataForw=dataForw[dataForw.speed<80]\n",
    "dataForw"
   ]
  },
  {
   "cell_type": "code",
   "execution_count": 4,
   "id": "dbe95935",
   "metadata": {},
   "outputs": [],
   "source": [
    "ct = ColumnTransformer([('weather', OneHotEncoder(), [5]),('is_holiday', OneHotEncoder(), [4])], remainder='passthrough')\n",
    "onehot_data_start=ct.fit_transform(dataForw)\n",
    "onehot_data_start=pd.DataFrame(onehot_data_start)\n",
    "onehot_data_start.rename({0:'weather0',1:'weather1',2:'weather2',3:'is_holiday0',4:'is_holiday1',5:'edge_id',6:'length',7:'minute',8:'speed'},axis=1,inplace=True)"
   ]
  },
  {
   "cell_type": "code",
   "execution_count": 5,
   "id": "f9664638",
   "metadata": {},
   "outputs": [
    {
     "data": {
      "text/html": [
       "<div>\n",
       "<style scoped>\n",
       "    .dataframe tbody tr th:only-of-type {\n",
       "        vertical-align: middle;\n",
       "    }\n",
       "\n",
       "    .dataframe tbody tr th {\n",
       "        vertical-align: top;\n",
       "    }\n",
       "\n",
       "    .dataframe thead th {\n",
       "        text-align: right;\n",
       "    }\n",
       "</style>\n",
       "<table border=\"1\" class=\"dataframe\">\n",
       "  <thead>\n",
       "    <tr style=\"text-align: right;\">\n",
       "      <th></th>\n",
       "      <th>weather0</th>\n",
       "      <th>weather1</th>\n",
       "      <th>weather2</th>\n",
       "      <th>is_holiday0</th>\n",
       "      <th>is_holiday1</th>\n",
       "      <th>edge_id</th>\n",
       "      <th>length</th>\n",
       "      <th>minute</th>\n",
       "      <th>speed</th>\n",
       "    </tr>\n",
       "  </thead>\n",
       "  <tbody>\n",
       "    <tr>\n",
       "      <th>0</th>\n",
       "      <td>0.0</td>\n",
       "      <td>1.0</td>\n",
       "      <td>0.0</td>\n",
       "      <td>0.0</td>\n",
       "      <td>1.0</td>\n",
       "      <td>0.0</td>\n",
       "      <td>1618.0</td>\n",
       "      <td>605.0</td>\n",
       "      <td>45.490138</td>\n",
       "    </tr>\n",
       "    <tr>\n",
       "      <th>1</th>\n",
       "      <td>1.0</td>\n",
       "      <td>0.0</td>\n",
       "      <td>0.0</td>\n",
       "      <td>1.0</td>\n",
       "      <td>0.0</td>\n",
       "      <td>0.0</td>\n",
       "      <td>1618.0</td>\n",
       "      <td>180.0</td>\n",
       "      <td>58.136208</td>\n",
       "    </tr>\n",
       "    <tr>\n",
       "      <th>2</th>\n",
       "      <td>1.0</td>\n",
       "      <td>0.0</td>\n",
       "      <td>0.0</td>\n",
       "      <td>1.0</td>\n",
       "      <td>0.0</td>\n",
       "      <td>0.0</td>\n",
       "      <td>1618.0</td>\n",
       "      <td>770.0</td>\n",
       "      <td>35.708970</td>\n",
       "    </tr>\n",
       "    <tr>\n",
       "      <th>3</th>\n",
       "      <td>1.0</td>\n",
       "      <td>0.0</td>\n",
       "      <td>0.0</td>\n",
       "      <td>1.0</td>\n",
       "      <td>0.0</td>\n",
       "      <td>0.0</td>\n",
       "      <td>1618.0</td>\n",
       "      <td>970.0</td>\n",
       "      <td>33.432919</td>\n",
       "    </tr>\n",
       "    <tr>\n",
       "      <th>4</th>\n",
       "      <td>1.0</td>\n",
       "      <td>0.0</td>\n",
       "      <td>0.0</td>\n",
       "      <td>1.0</td>\n",
       "      <td>0.0</td>\n",
       "      <td>0.0</td>\n",
       "      <td>1618.0</td>\n",
       "      <td>980.0</td>\n",
       "      <td>40.524331</td>\n",
       "    </tr>\n",
       "    <tr>\n",
       "      <th>...</th>\n",
       "      <td>...</td>\n",
       "      <td>...</td>\n",
       "      <td>...</td>\n",
       "      <td>...</td>\n",
       "      <td>...</td>\n",
       "      <td>...</td>\n",
       "      <td>...</td>\n",
       "      <td>...</td>\n",
       "      <td>...</td>\n",
       "    </tr>\n",
       "    <tr>\n",
       "      <th>778477</th>\n",
       "      <td>1.0</td>\n",
       "      <td>0.0</td>\n",
       "      <td>0.0</td>\n",
       "      <td>1.0</td>\n",
       "      <td>0.0</td>\n",
       "      <td>389.0</td>\n",
       "      <td>1920.0</td>\n",
       "      <td>770.0</td>\n",
       "      <td>50.024419</td>\n",
       "    </tr>\n",
       "    <tr>\n",
       "      <th>778478</th>\n",
       "      <td>1.0</td>\n",
       "      <td>0.0</td>\n",
       "      <td>0.0</td>\n",
       "      <td>1.0</td>\n",
       "      <td>0.0</td>\n",
       "      <td>389.0</td>\n",
       "      <td>1920.0</td>\n",
       "      <td>675.0</td>\n",
       "      <td>52.047795</td>\n",
       "    </tr>\n",
       "    <tr>\n",
       "      <th>778479</th>\n",
       "      <td>0.0</td>\n",
       "      <td>1.0</td>\n",
       "      <td>0.0</td>\n",
       "      <td>1.0</td>\n",
       "      <td>0.0</td>\n",
       "      <td>389.0</td>\n",
       "      <td>1920.0</td>\n",
       "      <td>110.0</td>\n",
       "      <td>50.552516</td>\n",
       "    </tr>\n",
       "    <tr>\n",
       "      <th>778480</th>\n",
       "      <td>1.0</td>\n",
       "      <td>0.0</td>\n",
       "      <td>0.0</td>\n",
       "      <td>1.0</td>\n",
       "      <td>0.0</td>\n",
       "      <td>389.0</td>\n",
       "      <td>1920.0</td>\n",
       "      <td>990.0</td>\n",
       "      <td>39.998259</td>\n",
       "    </tr>\n",
       "    <tr>\n",
       "      <th>778481</th>\n",
       "      <td>1.0</td>\n",
       "      <td>0.0</td>\n",
       "      <td>0.0</td>\n",
       "      <td>1.0</td>\n",
       "      <td>0.0</td>\n",
       "      <td>389.0</td>\n",
       "      <td>1920.0</td>\n",
       "      <td>650.0</td>\n",
       "      <td>52.857924</td>\n",
       "    </tr>\n",
       "  </tbody>\n",
       "</table>\n",
       "<p>778482 rows × 9 columns</p>\n",
       "</div>"
      ],
      "text/plain": [
       "        weather0  weather1  weather2  is_holiday0  is_holiday1  edge_id  \\\n",
       "0            0.0       1.0       0.0          0.0          1.0      0.0   \n",
       "1            1.0       0.0       0.0          1.0          0.0      0.0   \n",
       "2            1.0       0.0       0.0          1.0          0.0      0.0   \n",
       "3            1.0       0.0       0.0          1.0          0.0      0.0   \n",
       "4            1.0       0.0       0.0          1.0          0.0      0.0   \n",
       "...          ...       ...       ...          ...          ...      ...   \n",
       "778477       1.0       0.0       0.0          1.0          0.0    389.0   \n",
       "778478       1.0       0.0       0.0          1.0          0.0    389.0   \n",
       "778479       0.0       1.0       0.0          1.0          0.0    389.0   \n",
       "778480       1.0       0.0       0.0          1.0          0.0    389.0   \n",
       "778481       1.0       0.0       0.0          1.0          0.0    389.0   \n",
       "\n",
       "        length  minute      speed  \n",
       "0       1618.0   605.0  45.490138  \n",
       "1       1618.0   180.0  58.136208  \n",
       "2       1618.0   770.0  35.708970  \n",
       "3       1618.0   970.0  33.432919  \n",
       "4       1618.0   980.0  40.524331  \n",
       "...        ...     ...        ...  \n",
       "778477  1920.0   770.0  50.024419  \n",
       "778478  1920.0   675.0  52.047795  \n",
       "778479  1920.0   110.0  50.552516  \n",
       "778480  1920.0   990.0  39.998259  \n",
       "778481  1920.0   650.0  52.857924  \n",
       "\n",
       "[778482 rows x 9 columns]"
      ]
     },
     "execution_count": 5,
     "metadata": {},
     "output_type": "execute_result"
    }
   ],
   "source": [
    "onehot_data_start"
   ]
  },
  {
   "cell_type": "code",
   "execution_count": 6,
   "id": "75ce9992",
   "metadata": {},
   "outputs": [],
   "source": [
    "onehot_data_start['W']=(onehot_data_start['length']/(onehot_data_start['speed']*16.66667))\n",
    "onehot_data_start.drop(['speed'],axis=1,inplace=True)"
   ]
  },
  {
   "cell_type": "code",
   "execution_count": 7,
   "id": "f7784555",
   "metadata": {},
   "outputs": [],
   "source": [
    "onehot_data_start['W']=onehot_data_start['W']*60"
   ]
  },
  {
   "cell_type": "code",
   "execution_count": 8,
   "id": "a6b8e6a7",
   "metadata": {},
   "outputs": [
    {
     "data": {
      "text/html": [
       "<div>\n",
       "<style scoped>\n",
       "    .dataframe tbody tr th:only-of-type {\n",
       "        vertical-align: middle;\n",
       "    }\n",
       "\n",
       "    .dataframe tbody tr th {\n",
       "        vertical-align: top;\n",
       "    }\n",
       "\n",
       "    .dataframe thead th {\n",
       "        text-align: right;\n",
       "    }\n",
       "</style>\n",
       "<table border=\"1\" class=\"dataframe\">\n",
       "  <thead>\n",
       "    <tr style=\"text-align: right;\">\n",
       "      <th></th>\n",
       "      <th>weather0</th>\n",
       "      <th>weather1</th>\n",
       "      <th>weather2</th>\n",
       "      <th>is_holiday0</th>\n",
       "      <th>is_holiday1</th>\n",
       "      <th>edge_id</th>\n",
       "      <th>length</th>\n",
       "      <th>minute</th>\n",
       "    </tr>\n",
       "  </thead>\n",
       "  <tbody>\n",
       "    <tr>\n",
       "      <th>0</th>\n",
       "      <td>0.0</td>\n",
       "      <td>1.0</td>\n",
       "      <td>0.0</td>\n",
       "      <td>0.0</td>\n",
       "      <td>1.0</td>\n",
       "      <td>0.0</td>\n",
       "      <td>1618.0</td>\n",
       "      <td>605.0</td>\n",
       "    </tr>\n",
       "    <tr>\n",
       "      <th>1</th>\n",
       "      <td>1.0</td>\n",
       "      <td>0.0</td>\n",
       "      <td>0.0</td>\n",
       "      <td>1.0</td>\n",
       "      <td>0.0</td>\n",
       "      <td>0.0</td>\n",
       "      <td>1618.0</td>\n",
       "      <td>180.0</td>\n",
       "    </tr>\n",
       "    <tr>\n",
       "      <th>2</th>\n",
       "      <td>1.0</td>\n",
       "      <td>0.0</td>\n",
       "      <td>0.0</td>\n",
       "      <td>1.0</td>\n",
       "      <td>0.0</td>\n",
       "      <td>0.0</td>\n",
       "      <td>1618.0</td>\n",
       "      <td>770.0</td>\n",
       "    </tr>\n",
       "    <tr>\n",
       "      <th>3</th>\n",
       "      <td>1.0</td>\n",
       "      <td>0.0</td>\n",
       "      <td>0.0</td>\n",
       "      <td>1.0</td>\n",
       "      <td>0.0</td>\n",
       "      <td>0.0</td>\n",
       "      <td>1618.0</td>\n",
       "      <td>970.0</td>\n",
       "    </tr>\n",
       "    <tr>\n",
       "      <th>4</th>\n",
       "      <td>1.0</td>\n",
       "      <td>0.0</td>\n",
       "      <td>0.0</td>\n",
       "      <td>1.0</td>\n",
       "      <td>0.0</td>\n",
       "      <td>0.0</td>\n",
       "      <td>1618.0</td>\n",
       "      <td>980.0</td>\n",
       "    </tr>\n",
       "    <tr>\n",
       "      <th>...</th>\n",
       "      <td>...</td>\n",
       "      <td>...</td>\n",
       "      <td>...</td>\n",
       "      <td>...</td>\n",
       "      <td>...</td>\n",
       "      <td>...</td>\n",
       "      <td>...</td>\n",
       "      <td>...</td>\n",
       "    </tr>\n",
       "    <tr>\n",
       "      <th>778477</th>\n",
       "      <td>1.0</td>\n",
       "      <td>0.0</td>\n",
       "      <td>0.0</td>\n",
       "      <td>1.0</td>\n",
       "      <td>0.0</td>\n",
       "      <td>389.0</td>\n",
       "      <td>1920.0</td>\n",
       "      <td>770.0</td>\n",
       "    </tr>\n",
       "    <tr>\n",
       "      <th>778478</th>\n",
       "      <td>1.0</td>\n",
       "      <td>0.0</td>\n",
       "      <td>0.0</td>\n",
       "      <td>1.0</td>\n",
       "      <td>0.0</td>\n",
       "      <td>389.0</td>\n",
       "      <td>1920.0</td>\n",
       "      <td>675.0</td>\n",
       "    </tr>\n",
       "    <tr>\n",
       "      <th>778479</th>\n",
       "      <td>0.0</td>\n",
       "      <td>1.0</td>\n",
       "      <td>0.0</td>\n",
       "      <td>1.0</td>\n",
       "      <td>0.0</td>\n",
       "      <td>389.0</td>\n",
       "      <td>1920.0</td>\n",
       "      <td>110.0</td>\n",
       "    </tr>\n",
       "    <tr>\n",
       "      <th>778480</th>\n",
       "      <td>1.0</td>\n",
       "      <td>0.0</td>\n",
       "      <td>0.0</td>\n",
       "      <td>1.0</td>\n",
       "      <td>0.0</td>\n",
       "      <td>389.0</td>\n",
       "      <td>1920.0</td>\n",
       "      <td>990.0</td>\n",
       "    </tr>\n",
       "    <tr>\n",
       "      <th>778481</th>\n",
       "      <td>1.0</td>\n",
       "      <td>0.0</td>\n",
       "      <td>0.0</td>\n",
       "      <td>1.0</td>\n",
       "      <td>0.0</td>\n",
       "      <td>389.0</td>\n",
       "      <td>1920.0</td>\n",
       "      <td>650.0</td>\n",
       "    </tr>\n",
       "  </tbody>\n",
       "</table>\n",
       "<p>778482 rows × 8 columns</p>\n",
       "</div>"
      ],
      "text/plain": [
       "        weather0  weather1  weather2  is_holiday0  is_holiday1  edge_id  \\\n",
       "0            0.0       1.0       0.0          0.0          1.0      0.0   \n",
       "1            1.0       0.0       0.0          1.0          0.0      0.0   \n",
       "2            1.0       0.0       0.0          1.0          0.0      0.0   \n",
       "3            1.0       0.0       0.0          1.0          0.0      0.0   \n",
       "4            1.0       0.0       0.0          1.0          0.0      0.0   \n",
       "...          ...       ...       ...          ...          ...      ...   \n",
       "778477       1.0       0.0       0.0          1.0          0.0    389.0   \n",
       "778478       1.0       0.0       0.0          1.0          0.0    389.0   \n",
       "778479       0.0       1.0       0.0          1.0          0.0    389.0   \n",
       "778480       1.0       0.0       0.0          1.0          0.0    389.0   \n",
       "778481       1.0       0.0       0.0          1.0          0.0    389.0   \n",
       "\n",
       "        length  minute  \n",
       "0       1618.0   605.0  \n",
       "1       1618.0   180.0  \n",
       "2       1618.0   770.0  \n",
       "3       1618.0   970.0  \n",
       "4       1618.0   980.0  \n",
       "...        ...     ...  \n",
       "778477  1920.0   770.0  \n",
       "778478  1920.0   675.0  \n",
       "778479  1920.0   110.0  \n",
       "778480  1920.0   990.0  \n",
       "778481  1920.0   650.0  \n",
       "\n",
       "[778482 rows x 8 columns]"
      ]
     },
     "execution_count": 8,
     "metadata": {},
     "output_type": "execute_result"
    }
   ],
   "source": [
    "onehot_data_start.drop('W',axis=1)"
   ]
  },
  {
   "cell_type": "code",
   "execution_count": 9,
   "id": "5cf4edee",
   "metadata": {},
   "outputs": [],
   "source": [
    "#onehot_data_start=pd.concat([onehot_data_start,pd.get_dummies(onehot_data_start['edge_id'])],axis=1)\n",
    "#onehot_data_start_droped=onehot_data_start.drop(['edge_id','W'],axis=1)"
   ]
  },
  {
   "cell_type": "code",
   "execution_count": 10,
   "id": "2a5908a5",
   "metadata": {},
   "outputs": [],
   "source": [
    "#columnn=[]\n",
    "#for i in onehot_data_start_droped.columns:\n",
    "#    if type(i)=='str':\n",
    "#        columnn.append(i)\n",
    "#    elif type(i)!='str':\n",
    "#        columnn.append(str(i))"
   ]
  },
  {
   "cell_type": "code",
   "execution_count": 11,
   "id": "3fc6fc5d",
   "metadata": {},
   "outputs": [],
   "source": [
    "#columnn"
   ]
  },
  {
   "cell_type": "code",
   "execution_count": 12,
   "id": "62d72124",
   "metadata": {},
   "outputs": [],
   "source": [
    "#from sklearn.preprocessing import MinMaxScaler\n",
    "#norm=MinMaxScaler((0,1))\n",
    "#scaler_data_start=norm.fit_transform(onehot_data_start.drop('W',axis=1).copy())\n",
    "#scaler_data_start=pd.DataFrame(scaler_data_start,columns=onehot_data_start.columns[0:8])\n",
    "#scaler_data_start"
   ]
  },
  {
   "cell_type": "code",
   "execution_count": 13,
   "id": "5206c0cf",
   "metadata": {},
   "outputs": [],
   "source": [
    "#from sklearn.preprocessing import Normalizer\n",
    "#norm2=Normalizer()\n",
    "#scaler_data_start2=norm2.fit_transform(onehot_data_start.drop('W',axis=1).copy())\n",
    "#scaler_data_start2=pd.DataFrame(scaler_data_start2,columns=onehot_data_start.drop('W',axis=1).columns)\n",
    "#scaler_data_start2.columns\n"
   ]
  },
  {
   "cell_type": "code",
   "execution_count": null,
   "id": "b30ec236",
   "metadata": {},
   "outputs": [],
   "source": []
  },
  {
   "cell_type": "code",
   "execution_count": 61,
   "id": "18d54d60",
   "metadata": {},
   "outputs": [],
   "source": [
    "X=onehot_data_start.drop('W',axis=1)\n",
    "y=onehot_data_start['W']\n",
    "X_train, X_test, Y_train, Y_test = train_test_split(X, y,test_size=0.2,random_state=44)"
   ]
  },
  {
   "cell_type": "code",
   "execution_count": 62,
   "id": "730576ad",
   "metadata": {},
   "outputs": [],
   "source": [
    "from sklearn.ensemble import RandomForestRegressor\n",
    "from sklearn.model_selection import GridSearchCV\n",
    "from sklearn.model_selection import RandomizedSearchCV\n",
    "params={'n_jobs':[-1]}"
   ]
  },
  {
   "cell_type": "code",
   "execution_count": 63,
   "id": "fb3b853d",
   "metadata": {},
   "outputs": [],
   "source": [
    "model=GridSearchCV(RandomForestRegressor(),param_grid=params,cv=2,verbose=10)"
   ]
  },
  {
   "cell_type": "code",
   "execution_count": 64,
   "id": "ca910871",
   "metadata": {},
   "outputs": [
    {
     "name": "stdout",
     "output_type": "stream",
     "text": [
      "Fitting 2 folds for each of 1 candidates, totalling 2 fits\n",
      "[CV 1/2; 1/1] START n_jobs=-1...................................................\n",
      "[CV 1/2; 1/1] END ....................n_jobs=-1;, score=0.304 total time=  37.1s\n",
      "[CV 2/2; 1/1] START n_jobs=-1...................................................\n",
      "[CV 2/2; 1/1] END ....................n_jobs=-1;, score=0.351 total time=  34.2s\n"
     ]
    },
    {
     "data": {
      "text/plain": [
       "GridSearchCV(cv=2, estimator=RandomForestRegressor(),\n",
       "             param_grid={'n_jobs': [-1]}, verbose=10)"
      ]
     },
     "execution_count": 64,
     "metadata": {},
     "output_type": "execute_result"
    }
   ],
   "source": [
    "model.fit(X,y)"
   ]
  },
  {
   "cell_type": "code",
   "execution_count": 65,
   "id": "b5d35868",
   "metadata": {},
   "outputs": [],
   "source": [
    "y_pred=model.predict(X_test)"
   ]
  },
  {
   "cell_type": "code",
   "execution_count": 66,
   "id": "d5099e64",
   "metadata": {},
   "outputs": [],
   "source": [
    "y_true=Y_test\n",
    "from sklearn import metrics"
   ]
  },
  {
   "cell_type": "code",
   "execution_count": 67,
   "id": "ca673511",
   "metadata": {},
   "outputs": [
    {
     "data": {
      "text/plain": [
       "89.08413040018229"
      ]
     },
     "execution_count": 67,
     "metadata": {},
     "output_type": "execute_result"
    }
   ],
   "source": [
    "metrics.r2_score(y_true, y_pred)*100"
   ]
  },
  {
   "cell_type": "code",
   "execution_count": 68,
   "id": "af45b327",
   "metadata": {},
   "outputs": [
    {
     "data": {
      "text/plain": [
       "88.93345688895265"
      ]
     },
     "execution_count": 68,
     "metadata": {},
     "output_type": "execute_result"
    }
   ],
   "source": [
    "model.score(X_train,Y_train)*100"
   ]
  },
  {
   "cell_type": "code",
   "execution_count": 69,
   "id": "88aedc77",
   "metadata": {},
   "outputs": [
    {
     "data": {
      "text/plain": [
       "14.026298598245853"
      ]
     },
     "execution_count": 69,
     "metadata": {},
     "output_type": "execute_result"
    }
   ],
   "source": [
    "metrics.mean_absolute_error(y_true, y_pred)"
   ]
  },
  {
   "cell_type": "code",
   "execution_count": 70,
   "id": "ecd8af5a",
   "metadata": {},
   "outputs": [
    {
     "data": {
      "text/plain": [
       "155697"
      ]
     },
     "execution_count": 70,
     "metadata": {},
     "output_type": "execute_result"
    }
   ],
   "source": [
    "import math\n",
    "len(y_pred)"
   ]
  },
  {
   "cell_type": "code",
   "execution_count": 71,
   "id": "1262778c",
   "metadata": {},
   "outputs": [
    {
     "data": {
      "text/plain": [
       "<AxesSubplot:>"
      ]
     },
     "execution_count": 71,
     "metadata": {},
     "output_type": "execute_result"
    },
    {
     "data": {
      "image/png": "[encoded data removed]",
      "text/plain": [
       "<Figure size 432x288 with 1 Axes>"
      ]
     },
     "metadata": {
      "needs_background": "light"
     },
     "output_type": "display_data"
    }
   ],
   "source": [
    "(abs((y_true-y_pred)).hist(bins=20))"
   ]
  },
  {
   "cell_type": "code",
   "execution_count": 72,
   "id": "069ea40a",
   "metadata": {},
   "outputs": [
    {
     "data": {
      "text/plain": [
       "2.281996441806843"
      ]
     },
     "execution_count": 72,
     "metadata": {},
     "output_type": "execute_result"
    }
   ],
   "source": [
    "count_of_error=0\n",
    "for i in abs((y_true-y_pred)):\n",
    "    if i>60:\n",
    "        count_of_error+=1\n",
    "(count_of_error/155697)*100"
   ]
  },
  {
   "cell_type": "code",
   "execution_count": 73,
   "id": "d8df700a",
   "metadata": {},
   "outputs": [],
   "source": [
    "with open ('model0001.h','wb') as f:\n",
    "    pickle.dump(model,f)"
   ]
  },
  {
   "cell_type": "code",
   "execution_count": 74,
   "id": "67f3f4f1",
   "metadata": {},
   "outputs": [],
   "source": [
    "mygraph = nx.read_gpickle(\"network.gpickle\")"
   ]
  },
  {
   "cell_type": "code",
   "execution_count": 75,
   "id": "6a869f92",
   "metadata": {},
   "outputs": [],
   "source": [
    "def proces_data(start,holiday,wead):\n",
    "    df_in={'weather0':0,'weather1':0,'weather2':0,'is_holiday0':0,'is_holiday1':0,'minute':[start]}\n",
    "    if wead==0:\n",
    "        df_in['weather0']=1\n",
    "    elif wead==1:\n",
    "        df_in['weather1']=1\n",
    "    elif wead==2:\n",
    "        df_in['weather2']=1\n",
    "    if holiday==0:\n",
    "        df_in['is_holiday0']=1\n",
    "    elif holiday==1:\n",
    "        df_in['is_holiday1']=1\n",
    "    df_start=pd.DataFrame(df_in)\n",
    "    dh=df_start\n",
    "    for i in range(389):\n",
    "        if i!=48:\n",
    "            df_start=pd.concat([df_start,dh])\n",
    "    df_start.reset_index(inplace=True)\n",
    "    len_rod=pd.read_csv('dataset.csv')\n",
    "    len_rod=len_rod[['edge_id','length']].sort_values(by='edge_id').groupby('edge_id').length.max()\n",
    "    df_t={'edge_id':len_rod.index,'length':len_rod.values}\n",
    "    df_start=pd.concat([df_start,pd.DataFrame(df_t)],axis=1)\n",
    "    df_start.drop('index',axis=1,inplace=True)\n",
    "    df_start=df_start[['weather0','weather1','weather2','is_holiday0','is_holiday1','edge_id','length','minute']]\n",
    "    nnn=model.predict(df_start)\n",
    "    edgess=np.array(mygraph.edges)\n",
    "    for i in range(389):\n",
    "        if i<48:\n",
    "            for j in range(len(edgess)):\n",
    "                if i==mygraph.get_edge_data(edgess[j][0],edgess[j][1])['id']:\n",
    "                    mygraph.get_edge_data(edgess[j][0],edgess[j][1])['weight']=nnn[i]\n",
    "        if i>=48:\n",
    "            for j in range(len(edgess)):\n",
    "                if i+1==mygraph.get_edge_data(edgess[j][0],edgess[j][1])['id']:\n",
    "                    mygraph.get_edge_data(edgess[j][0],edgess[j][1])['weight']=nnn[i]\n",
    "    return "
   ]
  },
  {
   "cell_type": "code",
   "execution_count": 76,
   "id": "f0063e24",
   "metadata": {},
   "outputs": [],
   "source": [
    "def rout(d,s,r,i,w):\n",
    "    route_start_t=r\n",
    "    is_holiday=i\n",
    "    weather=w\n",
    "    start_nod=s\n",
    "    end_nod=d\n",
    "    proces_data(route_start_t,is_holiday,weather)\n",
    "    endtime=0\n",
    "    dj=[0.0]\n",
    "    while dj[-1]!=end_nod:\n",
    "        nods=nx.dijkstra_path(mygraph,start_nod,end_nod, weight='weight')\n",
    "        if len(nods)>2:\n",
    "            ti=mygraph.get_edge_data(nods[0],nods[1])['weight']\n",
    "            endtime+=(ti/60)\n",
    "            proces_data(route_start_t+endtime,is_holiday,weather)\n",
    "            dj.append(nods[0])\n",
    "            start_nod=nods[1]\n",
    "        elif len(nods)==2:\n",
    "            ti=mygraph.get_edge_data(nods[0],nods[1])['weight']\n",
    "            endtime+=(ti/60)\n",
    "            dj.append(nods[0])\n",
    "            dj.append(nods[1])\n",
    "    return(endtime*60,dj[1:])"
   ]
  },
  {
   "cell_type": "code",
   "execution_count": 85,
   "id": "8af85322",
   "metadata": {
    "jupyter": {
     "outputs_hidden": true
    }
   },
   "outputs": [
    {
     "name": "stdout",
     "output_type": "stream",
     "text": [
      "9985\n",
      "9986\n",
      "9987\n",
      "9988\n",
      "9989\n",
      "9990\n",
      "9991\n",
      "9992\n",
      "9993\n",
      "9994\n",
      "9995\n",
      "9996\n",
      "9997\n",
      "9998\n",
      "9999\n",
      "10000\n"
     ]
    }
   ],
   "source": [
    "test_cases=pd.read_csv('test_cases.csv')\n",
    "test_cases.drop(['eta','route'],axis=1,inplace=True)\n",
    "test_cases_fich=test_cases[['src','dest','route_start_t','is_holiday','weather']].copy()\n",
    "a={'eta':[],'route':[]}\n",
    "for i in range(1,10001):\n",
    "    ddf=(rout(test_cases_fich[i-1:i]['dest'][i-1],test_cases_fich[i-1:i]['src'][i-1],test_cases_fich[i-1:i]['route_start_t'][i-1],test_cases_fich[i-1:i]['is_holiday'][i-1],test_cases_fich[i-1:i]['weather'][i-1]))\n",
    "    a['eta'].append(ddf[0])\n",
    "    a['route'].append(ddf[1])\n",
    "    print(i)"
   ]
  },
  {
   "cell_type": "code",
   "execution_count": 87,
   "id": "f2860567",
   "metadata": {},
   "outputs": [
    {
     "data": {
      "text/html": [
       "<div>\n",
       "<style scoped>\n",
       "    .dataframe tbody tr th:only-of-type {\n",
       "        vertical-align: middle;\n",
       "    }\n",
       "\n",
       "    .dataframe tbody tr th {\n",
       "        vertical-align: top;\n",
       "    }\n",
       "\n",
       "    .dataframe thead th {\n",
       "        text-align: right;\n",
       "    }\n",
       "</style>\n",
       "<table border=\"1\" class=\"dataframe\">\n",
       "  <thead>\n",
       "    <tr style=\"text-align: right;\">\n",
       "      <th></th>\n",
       "      <th>src</th>\n",
       "      <th>dest</th>\n",
       "      <th>route_start_t</th>\n",
       "      <th>is_holiday</th>\n",
       "      <th>weather</th>\n",
       "      <th>eta</th>\n",
       "      <th>route</th>\n",
       "    </tr>\n",
       "  </thead>\n",
       "  <tbody>\n",
       "    <tr>\n",
       "      <th>0</th>\n",
       "      <td>27</td>\n",
       "      <td>90</td>\n",
       "      <td>521</td>\n",
       "      <td>0</td>\n",
       "      <td>0</td>\n",
       "      <td>682.818462</td>\n",
       "      <td>[27, 91, 146, 57, 36, 90]</td>\n",
       "    </tr>\n",
       "    <tr>\n",
       "      <th>1</th>\n",
       "      <td>60</td>\n",
       "      <td>114</td>\n",
       "      <td>835</td>\n",
       "      <td>1</td>\n",
       "      <td>2</td>\n",
       "      <td>1295.905038</td>\n",
       "      <td>[60, 86, 56, 163, 10, 114]</td>\n",
       "    </tr>\n",
       "    <tr>\n",
       "      <th>2</th>\n",
       "      <td>18</td>\n",
       "      <td>112</td>\n",
       "      <td>668</td>\n",
       "      <td>0</td>\n",
       "      <td>0</td>\n",
       "      <td>746.183526</td>\n",
       "      <td>[18, 36, 64, 107, 68, 112]</td>\n",
       "    </tr>\n",
       "    <tr>\n",
       "      <th>3</th>\n",
       "      <td>96</td>\n",
       "      <td>18</td>\n",
       "      <td>1114</td>\n",
       "      <td>0</td>\n",
       "      <td>2</td>\n",
       "      <td>920.667181</td>\n",
       "      <td>[96, 57, 36, 18]</td>\n",
       "    </tr>\n",
       "    <tr>\n",
       "      <th>4</th>\n",
       "      <td>66</td>\n",
       "      <td>135</td>\n",
       "      <td>1116</td>\n",
       "      <td>0</td>\n",
       "      <td>0</td>\n",
       "      <td>963.756011</td>\n",
       "      <td>[66, 89, 129, 111, 91, 146, 135]</td>\n",
       "    </tr>\n",
       "    <tr>\n",
       "      <th>...</th>\n",
       "      <td>...</td>\n",
       "      <td>...</td>\n",
       "      <td>...</td>\n",
       "      <td>...</td>\n",
       "      <td>...</td>\n",
       "      <td>...</td>\n",
       "      <td>...</td>\n",
       "    </tr>\n",
       "    <tr>\n",
       "      <th>9995</th>\n",
       "      <td>82</td>\n",
       "      <td>194</td>\n",
       "      <td>605</td>\n",
       "      <td>0</td>\n",
       "      <td>0</td>\n",
       "      <td>815.005883</td>\n",
       "      <td>[82, 109, 3, 134, 199, 147, 194]</td>\n",
       "    </tr>\n",
       "    <tr>\n",
       "      <th>9996</th>\n",
       "      <td>75</td>\n",
       "      <td>159</td>\n",
       "      <td>497</td>\n",
       "      <td>0</td>\n",
       "      <td>1</td>\n",
       "      <td>592.534255</td>\n",
       "      <td>[75, 29, 22, 167, 159]</td>\n",
       "    </tr>\n",
       "    <tr>\n",
       "      <th>9997</th>\n",
       "      <td>14</td>\n",
       "      <td>176</td>\n",
       "      <td>712</td>\n",
       "      <td>0</td>\n",
       "      <td>0</td>\n",
       "      <td>774.442552</td>\n",
       "      <td>[14, 71, 85, 102, 50, 176]</td>\n",
       "    </tr>\n",
       "    <tr>\n",
       "      <th>9998</th>\n",
       "      <td>14</td>\n",
       "      <td>77</td>\n",
       "      <td>1136</td>\n",
       "      <td>0</td>\n",
       "      <td>0</td>\n",
       "      <td>716.758631</td>\n",
       "      <td>[14, 71, 85, 77]</td>\n",
       "    </tr>\n",
       "    <tr>\n",
       "      <th>9999</th>\n",
       "      <td>22</td>\n",
       "      <td>59</td>\n",
       "      <td>1105</td>\n",
       "      <td>0</td>\n",
       "      <td>0</td>\n",
       "      <td>647.016626</td>\n",
       "      <td>[22, 100, 130, 59]</td>\n",
       "    </tr>\n",
       "  </tbody>\n",
       "</table>\n",
       "<p>10000 rows × 7 columns</p>\n",
       "</div>"
      ],
      "text/plain": [
       "      src  dest  route_start_t  is_holiday  weather          eta  \\\n",
       "0      27    90            521           0        0   682.818462   \n",
       "1      60   114            835           1        2  1295.905038   \n",
       "2      18   112            668           0        0   746.183526   \n",
       "3      96    18           1114           0        2   920.667181   \n",
       "4      66   135           1116           0        0   963.756011   \n",
       "...   ...   ...            ...         ...      ...          ...   \n",
       "9995   82   194            605           0        0   815.005883   \n",
       "9996   75   159            497           0        1   592.534255   \n",
       "9997   14   176            712           0        0   774.442552   \n",
       "9998   14    77           1136           0        0   716.758631   \n",
       "9999   22    59           1105           0        0   647.016626   \n",
       "\n",
       "                                 route  \n",
       "0            [27, 91, 146, 57, 36, 90]  \n",
       "1           [60, 86, 56, 163, 10, 114]  \n",
       "2           [18, 36, 64, 107, 68, 112]  \n",
       "3                     [96, 57, 36, 18]  \n",
       "4     [66, 89, 129, 111, 91, 146, 135]  \n",
       "...                                ...  \n",
       "9995  [82, 109, 3, 134, 199, 147, 194]  \n",
       "9996            [75, 29, 22, 167, 159]  \n",
       "9997        [14, 71, 85, 102, 50, 176]  \n",
       "9998                  [14, 71, 85, 77]  \n",
       "9999                [22, 100, 130, 59]  \n",
       "\n",
       "[10000 rows x 7 columns]"
      ]
     },
     "execution_count": 87,
     "metadata": {},
     "output_type": "execute_result"
    }
   ],
   "source": [
    "dff=pd.concat([test_cases_fich,pd.DataFrame(a)],axis=1)\n",
    "dff"
   ]
  },
  {
   "cell_type": "code",
   "execution_count": 88,
   "id": "ab3611ce",
   "metadata": {},
   "outputs": [],
   "source": [
    "dff.to_csv('test_cases_finall.csv')"
   ]
  },
  {
   "cell_type": "code",
   "execution_count": null,
   "id": "19ebe172",
   "metadata": {},
   "outputs": [],
   "source": []
  },
  {
   "cell_type": "code",
   "execution_count": null,
   "id": "ccfe7139",
   "metadata": {},
   "outputs": [],
   "source": []
  },
  {
   "cell_type": "code",
   "execution_count": null,
   "id": "87383d60",
   "metadata": {},
   "outputs": [],
   "source": []
  }
 ],
 "metadata": {
  "kernelspec": {
   "display_name": "Python 3 (ipykernel)",
   "language": "python",
   "name": "python3"
  },
  "language_info": {
   "codemirror_mode": {
    "name": "ipython",
    "version": 3
   },
   "file_extension": ".py",
   "mimetype": "text/x-python",
   "name": "python",
   "nbconvert_exporter": "python",
   "pygments_lexer": "ipython3",
   "version": "3.9.12"
  }
 },
 "nbformat": 4,
 "nbformat_minor": 5
}
